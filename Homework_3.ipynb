{
  "nbformat": 4,
  "nbformat_minor": 0,
  "metadata": {
    "colab": {
      "provenance": [],
      "gpuType": "T4"
    },
    "kernelspec": {
      "name": "python3",
      "display_name": "Python 3"
    },
    "language_info": {
      "name": "python"
    },
    "accelerator": "GPU"
  },
  "cells": [
    {
      "cell_type": "markdown",
      "source": [
        "## General Colab Tips\n",
        "- Modify files by opening/editing them in the UI (double-click to open).\n",
        "- `Right click > Refresh` in the Colab file explorer to update the directory.\n",
        "- All files are lost when the Colab session disconnects, so make sure back up your work.\n",
        "- Do **not** use `drive.mount` for your datasets! Reading from GDrive is super slow.\n",
        "- Instead, place datasets into the `/content/` folder and modify your data accordingly.\n",
        "\n",
        "**Make a copy of this notebook and modify this to whatever workflow you prefer!**\n",
        "\n",
        "If you have some additional colab tips, please share them on the discussion forum.\n",
        "\n",
        "## Setup\n",
        "\n",
        "First, enable a GPU runtime via `Runtime > Change runtime type > T4 GPU`\n",
        "\n",
        "Next, upload the your project files to the Colab. You can do this by either\n",
        "- using Github (**recommended**)\n",
        "- uploading files manually using the UI\n",
        "\n",
        "## Github Setup\n",
        "\n",
        "You can use git from within Google Colab!\n",
        "\n",
        "For this section, we assume you know how to use git and have already pushed the starter code to a private repo.\n",
        "\n",
        "It's a good idea to structure your repo something like\n",
        "```\n",
        "online_deep_learning/\n",
        "    homework1/\n",
        "    homework2/\n",
        "    ...\n",
        "```\n",
        "\n",
        "We highly recommend using this workflow as you'll be able to easily pull/commit your changes after modifying your model on Colab.\n",
        "\n",
        "To do this, you'll need a personal access token from [https://github.com/settings/tokens](https://github.com/settings/tokens)\n",
        "\n",
        "The easiest thing to do is select \"classic\" token and make sure you have the `repo` scope selected to allow access to your private repos.\n",
        "There's also fine-grained tokens where you can select access to specific repos.\n",
        "\n",
        "Once you have your token, fill in your information and then run the following cell to clone your git repo to the Colab instance."
      ],
      "metadata": {
        "id": "6zWseivb1lli"
      }
    },
    {
      "cell_type": "code",
      "source": [
        "import os\n",
        "\n",
        "\n",
        "os.environ['USER'] = 'bradyz'\n",
        "os.environ['REPO'] = 'online_deep_learning'\n",
        "os.environ['TOKEN'] = 'mYseCretToKEn'\n",
        "\n",
        "# do everything in colab's \"root\" directory\n",
        "%cd /content\n",
        "!git clone https://${TOKEN}@github.com/${USER}/${REPO}.git\n",
        "\n",
        "# make sure your repo shows up\n",
        "%ls"
      ],
      "metadata": {
        "id": "W0w8eJOnUAOR"
      },
      "execution_count": null,
      "outputs": []
    },
    {
      "cell_type": "markdown",
      "source": [
        "## Code Setup\n",
        "\n",
        "Next let's move into `homework2/` so we can continue setting up the data / code for training.\n",
        "\n",
        "This will be the main working directory and the training/grading must be run from this directory.\n"
      ],
      "metadata": {
        "id": "jcdO9DYgUD_I"
      }
    },
    {
      "cell_type": "code",
      "source": [
        "# navigate to your repo\n",
        "%cd /content/{os.environ['REPO']}\n",
        "%ls\n",
        "\n",
        "# go to a specific homework\n",
        "%mkdir -p homework2\n",
        "%cd homework2\n",
        "%ls\n",
        "\n",
        "# if you don't have a copy of homework2 yet in your git repo\n",
        "# you can uncomment the lines below to get a copy\n",
        "#!curl -O https://www.cs.utexas.edu/~bzhou/dl_class/homework2.zip\n",
        "#!unzip -o homework2.zip\n",
        "#!rm homework2.zip"
      ],
      "metadata": {
        "id": "_EN547ZwV5bK"
      },
      "execution_count": null,
      "outputs": []
    },
    {
      "cell_type": "markdown",
      "source": [
        "## Dataset Setup\n",
        "\n",
        "Now that your code is all ready, the next step is to download the datasets.\n",
        "\n",
        "Note: it's good practice to add data directories like `*/classification_data` to your `.gitignore` so you don't accidently commit them to your repo.\n",
        "\n",
        "Since the datasets used in this class are relatively small, we can simply re-download them if the compute instance crashes/restarts."
      ],
      "metadata": {
        "id": "xe1gdxvgV8C0"
      }
    },
    {
      "cell_type": "code",
      "execution_count": null,
      "metadata": {
        "id": "vLC51taXudfJ"
      },
      "outputs": [],
      "source": [
        "!curl -O https://www.cs.utexas.edu/~bzhou/dl_class/classification_data.zip\n",
        "!unzip -qo classification_data.zip > /dev/null\n",
        "!rm classification_data.zip\n",
        "\n",
        "# refreshes python imports automatically when you edit the source file\n",
        "%load_ext autoreload\n",
        "%autoreload 2"
      ]
    },
    {
      "cell_type": "markdown",
      "source": [
        "## Setup Verification\n",
        "\n",
        "Now you should be all set up, check out the `README.md` for additional instructions.\n",
        "\n",
        "Run this cell to verify your working directory is setup correctly.\n",
        "\n",
        "Your workspace should be organized as follows:\n",
        "\n",
        "```\n",
        "online_deep_learning/\n",
        "├── homework1/\n",
        "└── homework2/              <- you should be here\n",
        "    ├── bundle.py\n",
        "    ├── classification_data/\n",
        "    ├── grader/\n",
        "    ├── homework/\n",
        "    ├── README.md\n",
        "    └── requirements.txt\n",
        "```"
      ],
      "metadata": {
        "id": "p2O00L7rXA1L"
      }
    },
    {
      "cell_type": "code",
      "source": [
        "!ls"
      ],
      "metadata": {
        "id": "ZcfCueToZhVZ"
      },
      "execution_count": null,
      "outputs": []
    },
    {
      "cell_type": "markdown",
      "source": [
        "## Additional Helper Cells\n",
        "\n",
        "Now you're on your own! The rest of the provided cells are small helper routines.\n",
        "\n",
        "If you have any additional helpful colab tips/tricks please share them on the discussion forum."
      ],
      "metadata": {
        "id": "zpzS2ftmb7ZD"
      }
    },
    {
      "cell_type": "markdown",
      "source": [
        "## Tensorboard (Optional)\n",
        "\n",
        "You can monitor training using the following command.\n",
        "\n",
        "Make sure that your training code writes to the corresponding directory."
      ],
      "metadata": {
        "id": "glE1RHxE30_u"
      }
    },
    {
      "cell_type": "code",
      "source": [
        "%load_ext tensorboard\n",
        "!mkdir -p logs\n",
        "%tensorboard --logdir logs"
      ],
      "metadata": {
        "id": "wRWuQIERv6hz"
      },
      "execution_count": null,
      "outputs": []
    },
    {
      "cell_type": "markdown",
      "source": [
        "## Training\n",
        "\n",
        "After you implement your model, modify and run this cell to start training.\n",
        "\n",
        "Be sure to pass in the appropriate parameters."
      ],
      "metadata": {
        "id": "1MypN2jy4IAs"
      }
    },
    {
      "cell_type": "code",
      "source": [
        "from homework.train import train\n",
        "\n",
        "\n",
        "train(\n",
        "    model_name=\"linear\",\n",
        "    num_epoch=10,\n",
        "    lr=1e-3,\n",
        ")"
      ],
      "metadata": {
        "id": "kb9LkNKkp8xt"
      },
      "execution_count": null,
      "outputs": []
    },
    {
      "cell_type": "markdown",
      "source": [
        "## Grader\n",
        "\n",
        "Run the following cell to grade your homework locally.\n",
        "\n",
        "The Canvas grader uses a different data split for testing,  \n",
        "so there may be a *small* difference between your local grade and your final grade."
      ],
      "metadata": {
        "id": "WODRADDO02Hd"
      }
    },
    {
      "cell_type": "code",
      "source": [
        "!python3 -m grader homework -vv --disable_color"
      ],
      "metadata": {
        "id": "-ijkV65Bvpaj"
      },
      "execution_count": null,
      "outputs": []
    },
    {
      "cell_type": "markdown",
      "source": [
        "## Updating Your Changes\n",
        "\n",
        "After you've made progress, modify this cell and commit your changes to git."
      ],
      "metadata": {
        "id": "XSy3BQmL-b-j"
      }
    },
    {
      "cell_type": "code",
      "source": [
        "%ls\n",
        "!git status\n",
        "\n",
        "# Be careful not to \"git add *\" since there are datasets and logs\n",
        "!git add homework/*.py\n",
        "!git config --global user.email \"GITHUB_EMAIL\"\n",
        "!git config --global user.name \"GITHUB_USER\"\n",
        "!git commit -m \"update\"\n",
        "!git push origin main"
      ],
      "metadata": {
        "id": "SupapXWAXxrg"
      },
      "execution_count": null,
      "outputs": []
    },
    {
      "cell_type": "markdown",
      "source": [
        "## Tuning\n",
        "\n",
        "Rather than changing one parameter and re-running the cell above over and over again,  \n",
        "it is good practice to set up the model/training code so you can \"tune\" your model in a semi-automatic way.\n",
        "\n",
        "This cell tunes over the `num_epochs` your training runs for,  \n",
        "but you could easily modify this to tune over the number of layers, learning rate, etc.\n",
        "\n",
        "After you find a good set of model hyperparameters, be sure to hard-code them into the constructor,  \n",
        "since the grader will use the default constructor to load your model!"
      ],
      "metadata": {
        "id": "KgB4SQh1rt2M"
      }
    },
    {
      "cell_type": "code",
      "source": [
        "from homework.train import train\n",
        "\n",
        "\n",
        "jobs = [\n",
        "    # Run on short schedule (10 epochs)\n",
        "    {\n",
        "        \"model_name\": \"mlp\",\n",
        "        \"num_epoch\": 10,\n",
        "        \"lr\": 1e-3,\n",
        "        \"hidden_dim\": 64,\n",
        "    },\n",
        "    # Train for longer (20 epochs)\n",
        "    {\n",
        "        \"model_name\": \"mlp\",\n",
        "        \"num_epoch\": 20,\n",
        "        \"lr\": 1e-3,\n",
        "        \"hidden_dim\": 128,\n",
        "    },\n",
        "]\n",
        "\n",
        "for params in jobs:\n",
        "    train(**params)"
      ],
      "metadata": {
        "id": "DaZhBdBewBt4"
      },
      "execution_count": null,
      "outputs": []
    },
    {
      "cell_type": "markdown",
      "source": [
        "## Submission\n",
        "\n",
        "Run the following cell to bundle your submission (modify UTID accordingly).\n",
        "\n",
        "After the bundler and grader run, right click and download your bundled `.zip` file from the Colab UI.\n"
      ],
      "metadata": {
        "id": "OxbPtnF55AMU"
      }
    },
    {
      "cell_type": "code",
      "source": [
        "!python3 bundle.py homework UTID\n",
        "\n",
        "# optional: run the grader with your bundled homework\n",
        "!python3 -m grader UTID.zip -vv --disable_color"
      ],
      "metadata": {
        "id": "M07WA1Os4Xxh"
      },
      "execution_count": null,
      "outputs": []
    }
  ]
}